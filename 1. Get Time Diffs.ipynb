{
 "cells": [
  {
   "cell_type": "code",
   "execution_count": 1,
   "id": "3812a042",
   "metadata": {},
   "outputs": [],
   "source": [
    "import zipfile\n",
    "import io\n",
    "from tqdm import tqdm\n",
    "import pandas as pd\n",
    "import numpy as np\n",
    "import pickle"
   ]
  },
  {
   "cell_type": "code",
   "execution_count": 2,
   "id": "2db34d25",
   "metadata": {},
   "outputs": [],
   "source": [
    "# map upper case letters to their lowercase keys\n",
    "uppers = {\n",
    "    '~': '`', '!': '1', '@': '2', '#': '3', '$': '4', '%': '5', '^': '6', '&': '7', '*': '8', '(': '9', ')': '0', '_': '-', '+': '=',\n",
    "    'Q': 'q', 'W': 'w', 'E': 'e', 'R': 'r', 'T': 't', 'Y': 'y', 'U': 'u', 'I': 'i', 'O': 'o', 'P': 'p', '{': '[', '}': ']', '|': '\\\\',\n",
    "    'A': 'a', 'S': 's', 'D': 'd', 'F': 'f', 'G': 'g', 'H': 'h', 'J': 'j', 'K': 'k', 'L': 'l', ':': ';', '\"': '\\'',\n",
    "    'Z': 'z', 'X': 'x', 'C': 'c', 'V': 'v', 'B': 'b', 'N': 'n', 'M': 'm', '<': ',', '>': '.', '?': '/',\n",
    "}\n",
    "\n",
    "# characters in the keystroke dataset\n",
    "chars = {\n",
    "    ' ', '!', '?', \"'\", ',', '-', '.', \n",
    "    '0', '1', '2', '3', '4', '5', '6', '7', '8', '9',\n",
    "    'A', 'B', 'C', 'D', 'E', 'F', 'G', 'H', 'I', 'J', 'K', 'L', 'M', 'N', 'O', 'P', 'Q', 'R', 'S', 'T', 'U', 'V', 'W', 'X', 'Y', 'Z',\n",
    "    'a', 'b', 'c', 'd', 'e', 'f', 'g', 'h', 'i', 'j', 'k', 'l', 'm', 'n', 'o', 'p', 'q', 'r', 's', 't', 'u', 'v', 'w', 'x', 'y', 'z'\n",
    "}\n",
    "\n",
    "# all keyboard characters\n",
    "keyboard = {\n",
    "    'ESC', 'f1', 'f2', 'f3', 'f4', 'f5', 'f6', 'f7', 'f8', 'f9', 'f10', 'f11', 'f12',\n",
    "    \n",
    "    '~', '!', '@', '#', '$', '%', '^', '&', '*', '(', ')', '_', '+', 'BKSP',\n",
    "    '`', '1', '2', '3', '4', '5', '6', '7', '8', '9', '0', '-', '=',\n",
    "    '\\t', 'Q', 'W', 'E', 'R', 'T', 'Y', 'U', 'I', 'O', 'P', '{', '}', '|',\n",
    "    'q', 'w', 'e', 'r', 't', 'y', 'u', 'i', 'o', 'p', '[', ']', '\\\\',\n",
    "    'CAPS_LOCK', 'A', 'S', 'D', 'F', 'G', 'H', 'J', 'K', 'L', ':', '\"', '\\n',\n",
    "    'a', 's', 'd', 'f', 'g', 'h', 'j', 'k', 'l', ';', '\\'',\n",
    "    'SHIFT', 'Z', 'X', 'C', 'V', 'B', 'N', 'M', '<', '>', '?',\n",
    "    'z', 'x', 'c', 'v', 'b', 'n', 'm', ',', '.', '/',\n",
    "    'CTRL', 'WIN', 'ALT', ' ', 'MENU',\n",
    "    \n",
    "    'PRT_SC', 'SCR_LK', 'PAUSE',\n",
    "    'INSERT', 'HOME', 'PG_UP', 'DELETE', 'END', 'PG_DOWN',\n",
    "    'ARW_UP', 'ARW_LEFT', 'ARW_DOWN', 'ARW_RIGHT',\n",
    "    'NUM_LK', 'NUM_DIVIDE', 'NUM_MULT', 'NUM_SUB', 'NUM_ADD',\n",
    "    'NUM_0', 'NUM_1', 'NUM_2', 'NUM_3', 'NUM_4', 'NUM_5', 'NUM_6', 'NUM_7', 'NUM_8', 'NUM_9',\n",
    "}"
   ]
  },
  {
   "cell_type": "code",
   "execution_count": 3,
   "id": "fadd1747",
   "metadata": {},
   "outputs": [],
   "source": [
    "chain = {}\n",
    "\n",
    "def extract_durations(df):\n",
    "    # keep track of previous key\n",
    "    prev = ''\n",
    "    for _, (char, time_diff) in df.iterrows():\n",
    "        # only record keyboard keys\n",
    "        if char in keyboard:\n",
    "            if not np.isnan(time_diff):\n",
    "                if char in uppers:\n",
    "                    # make char lowercase\n",
    "                    char = uppers[char]\n",
    "                char = char.lower()\n",
    "                if prev and prev in chain:\n",
    "                    if char in chain[prev]:\n",
    "                        # create a list of time differences for every key pair\n",
    "                        chain[prev][char].append(time_diff)\n",
    "                    else:\n",
    "                        chain[prev][char] = [time_diff]\n",
    "                elif prev:\n",
    "                    chain[prev] = {}\n",
    "                    chain[prev][char] = [time_diff]\n",
    "            prev = char\n",
    "        else:\n",
    "            prev = ''\n",
    "\n",
    "def handle_df(data):\n",
    "    # convert file data to dataframe\n",
    "    df = pd.DataFrame([x.split('\\t') for x in data.decode('latin-1').split('\\n')])\n",
    "    df.columns = df.iloc[0]\n",
    "    df = df[1:]\n",
    "    df = df.sort_values('PRESS_TIME')\n",
    "    df['TIME_DIFFERENCE'] = df['PRESS_TIME'].apply(pd.to_numeric).diff()\n",
    "    df = df[['LETTER', 'TIME_DIFFERENCE']]\n",
    "    return df"
   ]
  },
  {
   "cell_type": "code",
   "execution_count": 4,
   "id": "56b27243",
   "metadata": {},
   "outputs": [
    {
     "name": "stderr",
     "output_type": "stream",
     "text": [
      "failed %: 0.0: 100%|███████████████████| 168593/168593 [2:29:12<00:00, 18.83it/s]\n"
     ]
    }
   ],
   "source": [
    "failed = 0\n",
    "total = 0\n",
    "\n",
    "with zipfile.ZipFile('Keystrokes.zip', 'r') as f:\n",
    "    # iterate through zip file without fully decompressing\n",
    "    # this is faster since there's less seek time\n",
    "    for name in (pbar := tqdm([name for name in f.namelist() if name[-15:] == '_keystrokes.txt'])):\n",
    "        try:\n",
    "            df = handle_df(f.read(name))\n",
    "            extract_durations(df)\n",
    "        except Exception as e:\n",
    "            failed += 1\n",
    "        total += 1\n",
    "        pbar.set_description(f'failed %: {round(100 * failed / total, 1)}')"
   ]
  },
  {
   "cell_type": "code",
   "execution_count": 5,
   "id": "4817d8a6",
   "metadata": {},
   "outputs": [],
   "source": [
    "with open('diffs.pkl', 'wb') as f:\n",
    "    pickle.dump(chain, f)"
   ]
  }
 ],
 "metadata": {
  "kernelspec": {
   "display_name": "Python 3 (ipykernel)",
   "language": "python",
   "name": "python3"
  },
  "language_info": {
   "codemirror_mode": {
    "name": "ipython",
    "version": 3
   },
   "file_extension": ".py",
   "mimetype": "text/x-python",
   "name": "python",
   "nbconvert_exporter": "python",
   "pygments_lexer": "ipython3",
   "version": "3.9.2"
  }
 },
 "nbformat": 4,
 "nbformat_minor": 5
}

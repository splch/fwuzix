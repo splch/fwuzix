{
 "cells": [
  {
   "cell_type": "code",
   "execution_count": 1,
   "id": "2d9864ff",
   "metadata": {},
   "outputs": [
    {
     "name": "stderr",
     "output_type": "stream",
     "text": [
      "Reusing dataset blog_authorship_corpus (/home/spence/.cache/huggingface/datasets/blog_authorship_corpus/blog_authorship_corpus/1.0.0/6f5d78241afd8313111956f877a57db7a0e9fc6718255dc85df0928197feb683)\n"
     ]
    },
    {
     "data": {
      "application/vnd.jupyter.widget-view+json": {
       "model_id": "78adfec952aa41c19998c9ccd4719148",
       "version_major": 2,
       "version_minor": 0
      },
      "text/plain": [
       "  0%|          | 0/2 [00:00<?, ?it/s]"
      ]
     },
     "metadata": {},
     "output_type": "display_data"
    }
   ],
   "source": [
    "# !pip install -q datasets\n",
    "\n",
    "import re\n",
    "from tqdm import tqdm\n",
    "from datasets import load_dataset, concatenate_datasets\n",
    "import json\n",
    "\n",
    "ds = load_dataset(\"blog_authorship_corpus\")\n",
    "ds = concatenate_datasets([ds['train'], ds['validation']])\n",
    "ds = ds.remove_columns(['date', 'gender', 'age', 'horoscope', 'job'])\n",
    "\n",
    "# map upper case letters to their lowercase keys\n",
    "uppers = {\n",
    "    '~': '`', '!': '1', '@': '2', '#': '3', '$': '4', '%': '5', '^': '6', '&': '7', '*': '8', '(': '9', ')': '0', '_': '-', '+': '=',\n",
    "    'Q': 'q', 'W': 'w', 'E': 'e', 'R': 'r', 'T': 't', 'Y': 'y', 'U': 'u', 'I': 'i', 'O': 'o', 'P': 'p', '{': '[', '}': ']', '|': '\\\\',\n",
    "    'A': 'a', 'S': 's', 'D': 'd', 'F': 'f', 'G': 'g', 'H': 'h', 'J': 'j', 'K': 'k', 'L': 'l', ':': ';', '\"': '\\'',\n",
    "    'Z': 'z', 'X': 'x', 'C': 'c', 'V': 'v', 'B': 'b', 'N': 'n', 'M': 'm', '<': ',', '>': '.', '?': '/',\n",
    "}\n",
    "\n",
    "keyboard = {\n",
    "    'esc', 'f1', 'f2', 'f3', 'f4', 'f5', 'f6', 'f7', 'f8', 'f9', 'f10', 'f11', 'f12',\n",
    "    \n",
    "    '~', '!', '@', '#', '$', '%', '^', '&', '*', '(', ')', '_', '+', 'bksp',\n",
    "    '`', '1', '2', '3', '4', '5', '6', '7', '8', '9', '0', '-', '=',\n",
    "    '\\t', 'Q', 'W', 'E', 'R', 'T', 'Y', 'U', 'I', 'O', 'P', '{', '}', '|',\n",
    "    'q', 'w', 'e', 'r', 't', 'y', 'u', 'i', 'o', 'p', '[', ']', '\\\\',\n",
    "    'caps_lock', 'A', 'S', 'D', 'F', 'G', 'H', 'J', 'K', 'L', ':', '\"', '\\n',\n",
    "    'a', 's', 'd', 'f', 'g', 'h', 'j', 'k', 'l', ';', '\\'',\n",
    "    'shift', 'Z', 'X', 'C', 'V', 'B', 'N', 'M', '<', '>', '?',\n",
    "    'z', 'x', 'c', 'v', 'b', 'n', 'm', ',', '.', '/',\n",
    "    'ctrl', 'win', 'alt', ' ', 'menu',\n",
    "    \n",
    "    'prt_sc', 'scr_lk', 'pause',\n",
    "    'insert', 'home', 'pg_up', 'delete', 'end', 'pg_down',\n",
    "    'arw_up', 'arw_left', 'arw_down', 'arw_right',\n",
    "    'num_lk', 'num_divide', 'num_mult', 'num_sub', 'num_add',\n",
    "    'num_0', 'num_1', 'num_2', 'num_3', 'num_4', 'num_5', 'num_6', 'num_7', 'num_8', 'num_9',\n",
    "}"
   ]
  },
  {
   "cell_type": "code",
   "execution_count": 2,
   "id": "95754f2a",
   "metadata": {},
   "outputs": [],
   "source": [
    "def process(text : str) -> str:\n",
    "    _t = ''\n",
    "    for char in text:\n",
    "        if char in keyboard:\n",
    "            _t += char\n",
    "        else:\n",
    "            _t += 'Ĩ'\n",
    "\n",
    "    text = _t\n",
    "    return text"
   ]
  },
  {
   "cell_type": "code",
   "execution_count": 3,
   "id": "3951096f",
   "metadata": {},
   "outputs": [
    {
     "name": "stderr",
     "output_type": "stream",
     "text": [
      "100%|██████████████████████████████████| 727712/727712 [09:48<00:00, 1236.27it/s]\n"
     ]
    }
   ],
   "source": [
    "chain = {\n",
    "    'shift': {'freq': 0}\n",
    "}\n",
    "\n",
    "prev = ''\n",
    "for blog in tqdm(ds['text']):\n",
    "    # preprocess text\n",
    "    blog = process(blog)\n",
    "    \n",
    "    for char in blog:\n",
    "        # remove non-keyboard characters\n",
    "        if char == 'Ĩ':\n",
    "            prev = ''\n",
    "        elif char in uppers:\n",
    "            # assume shift key was held down\n",
    "            if prev in uppers:\n",
    "                if uppers[char] in chain[uppers[prev]]:\n",
    "                    chain[uppers[prev]]['FREQ'] += 1\n",
    "                else:\n",
    "                    chain[uppers[prev]] = {'FREQ' : 1}\n",
    "                chain[uppers[prev]][uppers[char]] = chain[uppers[prev]].get(uppers[char], 0) + 1\n",
    "            else:\n",
    "                chain['SHIFT']['FREQ'] += 1\n",
    "                chain['SHIFT'][uppers[char]] = chain['SHIFT'].get(uppers[char], 0) + 1\n",
    "        elif prev and prev in chain:\n",
    "            chain[prev]['FREQ'] += 1\n",
    "            chain[prev][char] = chain[prev].get(char, 0) + 1\n",
    "        elif prev:\n",
    "            chain[prev] = {'FREQ': 1}\n",
    "            chain[prev][char] = 1\n",
    "        \n",
    "        prev = char\n",
    "    prev = ''\n",
    "\n",
    "# remove key before non-keyboard\n",
    "_ = chain.pop('Ĩ', None)"
   ]
  },
  {
   "cell_type": "code",
   "execution_count": 4,
   "id": "4f7a3214",
   "metadata": {},
   "outputs": [],
   "source": [
    "with open('common_pairs.json', 'w') as f:\n",
    "    json.dump(chain, f)"
   ]
  },
  {
   "cell_type": "markdown",
   "id": "aec4eaec",
   "metadata": {},
   "source": [
    "[Wrist Angle](https://pubmed.ncbi.nlm.nih.gov/10424183/):\n",
    "    \n",
    "    right: 23.4, left: 19.9\n",
    "    avg: 21.65 degrees\n",
    "\n",
    "[Finger Strength](https://www.researchgate.net/publication/2423272_A_System_For_Measuring_Finger_Forces_During_Grasping):\n",
    "    \n",
    "    @ 20 degrees, strongest:\n",
    "        1. Thumb\n",
    "        2. Middle\n",
    "        3. Index\n",
    "        4. Ring\n",
    "        5. Pinky\n",
    "        \n",
    "![Fingers on Keyboard](https://upload.wikimedia.org/wikipedia/commons/9/93/Finger_position_on_a_keyboard.png)"
   ]
  },
  {
   "cell_type": "raw",
   "id": "9bc3b3ce",
   "metadata": {},
   "source": [
    "hands = {\n",
    "    'left': {\n",
    "        'pinky' : ['1', 'r', 'c', 'x'],\n",
    "        'ring'  : ['2', 'i', 'y', 'v'],\n",
    "        'middle': ['3', 'o', 'u', 'b'],\n",
    "        'index' : ['4', '5', 't', 'l', 'f'],\n",
    "        'thumb' : [' '],\n",
    "    },\n",
    "    'right': {\n",
    "        'thumb' : [' '],\n",
    "        'index' : ['6', '7', 'e', 'h', 'w'],\n",
    "        'middle': ['8', 'a', 'd', 'p'],\n",
    "        'ring'  : ['9', 'n', 'm', 'k'],\n",
    "        'pinky' : ['0', 's', 'g', 'j'],\n",
    "    }\n",
    "}"
   ]
  }
 ],
 "metadata": {
  "kernelspec": {
   "display_name": "Python 3 (ipykernel)",
   "language": "python",
   "name": "python3"
  },
  "language_info": {
   "codemirror_mode": {
    "name": "ipython",
    "version": 3
   },
   "file_extension": ".py",
   "mimetype": "text/x-python",
   "name": "python",
   "nbconvert_exporter": "python",
   "pygments_lexer": "ipython3",
   "version": "3.9.2"
  }
 },
 "nbformat": 4,
 "nbformat_minor": 5
}

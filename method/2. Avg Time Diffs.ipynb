{
 "cells": [
  {
   "cell_type": "code",
   "execution_count": 1,
   "id": "d9972e31",
   "metadata": {},
   "outputs": [],
   "source": [
    "import pickle\n",
    "import json\n",
    "from tqdm import tqdm\n",
    "import numpy as np"
   ]
  },
  {
   "cell_type": "code",
   "execution_count": 2,
   "id": "d24c6690",
   "metadata": {},
   "outputs": [],
   "source": [
    "global diffs\n",
    "\n",
    "with open('diffs.pkl', 'rb') as f:\n",
    "    diffs = pickle.load(f)"
   ]
  },
  {
   "cell_type": "code",
   "execution_count": 3,
   "id": "17898ab5",
   "metadata": {},
   "outputs": [],
   "source": [
    "def reject_outliers(arr, m=31/18):\n",
    "    if len(arr) == 1:\n",
    "        return arr\n",
    "    q1, q3 = np.nanpercentile(arr, [25, 75])\n",
    "    iqr = q3 - q1\n",
    "    lb = q1 - m * iqr\n",
    "    ub = q3 + m * iqr\n",
    "    if len(set(arr)) > 1:\n",
    "        arr = arr[(arr > lb) & (arr < ub)]\n",
    "    assert len(arr) > 0\n",
    "    return arr"
   ]
  },
  {
   "cell_type": "code",
   "execution_count": 4,
   "id": "e17d5570",
   "metadata": {},
   "outputs": [
    {
     "name": "stderr",
     "output_type": "stream",
     "text": [
      "100%|██████████████████████████████████████████| 138/138 [00:34<00:00,  3.97it/s]\n"
     ]
    }
   ],
   "source": [
    "avg_diffs = {}\n",
    "\n",
    "for char, follows in tqdm(diffs.items()):\n",
    "    avg_diffs[char] = {}\n",
    "    for letter, vals in follows.items():\n",
    "        if not np.isnan(vals).all():\n",
    "            try:\n",
    "                data = reject_outliers(np.array(vals))\n",
    "                avg_diffs[char][letter] = {\n",
    "                    'mean': np.nanmean(data),\n",
    "                    'std': np.nanstd(data)\n",
    "                }\n",
    "            except:\n",
    "                pass"
   ]
  },
  {
   "cell_type": "code",
   "execution_count": 5,
   "id": "97f993a2",
   "metadata": {},
   "outputs": [],
   "source": [
    "with open('avg_diffs.json', 'w') as f:\n",
    "    json.dump(avg_diffs, f, ensure_ascii=False, indent=4)"
   ]
  }
 ],
 "metadata": {
  "kernelspec": {
   "display_name": "Python 3 (ipykernel)",
   "language": "python",
   "name": "python3"
  },
  "language_info": {
   "codemirror_mode": {
    "name": "ipython",
    "version": 3
   },
   "file_extension": ".py",
   "mimetype": "text/x-python",
   "name": "python",
   "nbconvert_exporter": "python",
   "pygments_lexer": "ipython3",
   "version": "3.9.2"
  }
 },
 "nbformat": 4,
 "nbformat_minor": 5
}

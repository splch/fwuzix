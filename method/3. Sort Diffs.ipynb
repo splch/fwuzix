{
 "cells": [
  {
   "cell_type": "code",
   "execution_count": 1,
   "id": "dd8e912e",
   "metadata": {},
   "outputs": [],
   "source": [
    "import json"
   ]
  },
  {
   "cell_type": "code",
   "execution_count": 2,
   "id": "328595c6",
   "metadata": {},
   "outputs": [],
   "source": [
    "keyboard = {\n",
    "    'esc', 'f1', 'f2', 'f3', 'f4', 'f5', 'f6', 'f7', 'f8', 'f9', 'f10', 'f11', 'f12',\n",
    "\n",
    "    '~', '!', '@', '#', '$', '%', '^', '&', '*', '(', ')', '_', '+', 'bksp',\n",
    "    '`', '1', '2', '3', '4', '5', '6', '7', '8', '9', '0', '-', '=',\n",
    "    'tab', 'Q', 'W', 'E', 'R', 'T', 'Y', 'U', 'I', 'O', 'P', '{', '}', '|',\n",
    "    'q', 'w', 'e', 'r', 't', 'y', 'u', 'i', 'o', 'p', '[', ']', '\\\\',\n",
    "    'caps_lock', 'A', 'S', 'D', 'F', 'G', 'H', 'J', 'K', 'L', ':', '\"', 'enter',\n",
    "    'a', 's', 'd', 'f', 'g', 'h', 'j', 'k', 'l', ';', '\\'',\n",
    "    'shift', 'Z', 'X', 'C', 'V', 'B', 'N', 'M', '<', '>', '?',\n",
    "    'z', 'x', 'c', 'v', 'b', 'n', 'm', ',', '.', '/',\n",
    "    'ctrl', 'win', 'alt', ' ', 'menu',\n",
    "\n",
    "    'prt_sc', 'scr_lk', 'pause',\n",
    "    'insert', 'home', 'pg_up', 'delete', 'end', 'pg_down',\n",
    "    'arw_up', 'arw_left', 'arw_down', 'arw_right',\n",
    "    'num_lk', 'num_divide', 'num_mult', 'num_sub', 'num_add',\n",
    "    'num_0', 'num_1', 'num_2', 'num_3', 'num_4', 'num_5', 'num_6', 'num_7', 'num_8', 'num_9',\n",
    "}"
   ]
  },
  {
   "cell_type": "code",
   "execution_count": 3,
   "id": "b0a75c24",
   "metadata": {},
   "outputs": [],
   "source": [
    "symbols = {'~', '!', '@', '#', '$', '%', '^', '&', '*', '(', ')', '_', '+', '`', '-', '=', '{', '}', '|', '[', ']', '\\\\', ':', '\"', ';', '\\'', '<', '>', '?', ',', '.', '/'}\n",
    "controls = {'esc', 'bksp', 'tab', 'caps_lock', 'enter', 'shift', 'ctrl', 'win', 'alt'}\n",
    "letters = {'a', 'b', 'c', 'd', 'e', 'f', 'g', 'h', 'i', 'j', 'k', 'l', 'm', 'n', 'o', 'p', 'q', 'r', 's', 't', 'u', 'v', 'w', 'x', 'y', 'z'}"
   ]
  },
  {
   "cell_type": "code",
   "execution_count": 4,
   "id": "d4c424ea",
   "metadata": {},
   "outputs": [],
   "source": [
    "global common_pairs\n",
    "global avg_diffs\n",
    "\n",
    "with open('common_pairs.json', 'r') as f:\n",
    "    common_pairs = json.load(f)\n",
    "\n",
    "with open('avg_diffs.json', 'r') as f:\n",
    "    avg_diffs = json.load(f)"
   ]
  },
  {
   "cell_type": "code",
   "execution_count": 5,
   "id": "a4e736b9",
   "metadata": {},
   "outputs": [],
   "source": [
    "pair_delays = {}\n",
    "for first, seconds in avg_diffs.items():\n",
    "    if first in letters:\n",
    "        for letter, data in seconds.items():\n",
    "            if letter in letters:\n",
    "                pair_delays[first + '→' + letter] = data['mean'] + data['std']\n",
    "\n",
    "pair_frequencies = {}\n",
    "for first, seconds in common_pairs.items():\n",
    "    if first in letters:\n",
    "        for letter, frequency in seconds.items():\n",
    "            if letter in letters:\n",
    "                pair_frequencies[first + '→' + letter] = frequency"
   ]
  },
  {
   "cell_type": "code",
   "execution_count": 6,
   "id": "e80cf60f",
   "metadata": {
    "scrolled": false
   },
   "outputs": [
    {
     "name": "stdout",
     "output_type": "stream",
     "text": [
      "Map h to t and j to h\n",
      "Map t to i and o to n\n",
      "Map k to e and c to r\n",
      "Map m to o and e to u\n",
      "Map i to a and s to l\n",
      "Map l to m and a to y\n",
      "Map d to c and x to k\n",
      "Map n to s and g to p\n",
      "Map v to d and b to g\n",
      "Map f to b and u to j\n",
      "Map w to w and q to f\n",
      "Map r to z and y to x\n",
      "Map z to q and p to v\n",
      "\n",
      "total delay: 2683.7672422411597\n"
     ]
    }
   ],
   "source": [
    "sorted_pair_frequencies = sorted(pair_frequencies.items(), key=lambda x: x[1], reverse=True)\n",
    "sorted_pair_delays = sorted(pair_delays.items(), key=lambda x: x[1])\n",
    "\n",
    "total_delay = 0\n",
    "olds = set()\n",
    "news = set()\n",
    "for pair_1, frequency in sorted_pair_frequencies:\n",
    "    for pair_2, delay in sorted_pair_delays:\n",
    "        old = pair_2.split('→')\n",
    "        new = pair_1.split('→')\n",
    "\n",
    "        key_set = set([*old, *new])\n",
    "        \n",
    "        if len(set(old)) == 2 and len(set(new)) == 2 and \\\n",
    "        old[0] not in olds and old[1] not in olds and \\\n",
    "        new[0] not in news and new[1] not in news and \\\n",
    "        key_set.issubset(letters):\n",
    "            print(f'Map {old[0]} to {new[0]} and {old[1]} to {new[1]}')\n",
    "            olds.update(old)\n",
    "            news.update(new)\n",
    "            total_delay += delay\n",
    "\n",
    "print(f'\\ntotal delay: {total_delay}')"
   ]
  },
  {
   "cell_type": "markdown",
   "id": "d1577fa2",
   "metadata": {},
   "source": [
    "![FWUZIX Layout](fwuzix.png)"
   ]
  }
 ],
 "metadata": {
  "kernelspec": {
   "display_name": "Python 3 (ipykernel)",
   "language": "python",
   "name": "python3"
  },
  "language_info": {
   "codemirror_mode": {
    "name": "ipython",
    "version": 3
   },
   "file_extension": ".py",
   "mimetype": "text/x-python",
   "name": "python",
   "nbconvert_exporter": "python",
   "pygments_lexer": "ipython3",
   "version": "3.8.9"
  }
 },
 "nbformat": 4,
 "nbformat_minor": 5
}
